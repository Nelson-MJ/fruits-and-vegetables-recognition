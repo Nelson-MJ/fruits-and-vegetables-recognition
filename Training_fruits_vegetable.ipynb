{
  "nbformat": 4,
  "nbformat_minor": 0,
  "metadata": {
    "colab": {
      "provenance": []
    },
    "kernelspec": {
      "name": "python3",
      "display_name": "Python 3"
    },
    "language_info": {
      "name": "python"
    }
  },
  "cells": [
    {
      "cell_type": "markdown",
      "source": [
        "# Importing Libraries"
      ],
      "metadata": {
        "id": "pOc1SzBe8A6Y"
      }
    },
    {
      "cell_type": "code",
      "execution_count": null,
      "metadata": {
        "id": "W4dxUTHG4X2g"
      },
      "outputs": [],
      "source": [
        "import numpy as np\n",
        "import tensorflow as tf\n",
        "import matplotlib.pyplot as plt"
      ]
    },
    {
      "cell_type": "markdown",
      "source": [
        "# Data Processing\n"
      ],
      "metadata": {
        "id": "lSRMqmSl9KQD"
      }
    },
    {
      "cell_type": "markdown",
      "source": [
        "# Training Image Processing"
      ],
      "metadata": {
        "id": "9iWk0vMg9SoF"
      }
    },
    {
      "cell_type": "code",
      "source": [
        "training_set = tf.keras.utils.image_dataset_from_directory(\n",
        "    '/content/drive/MyDrive/Project datasets/train',\n",
        "    labels=\"inferred\",\n",
        "    label_mode=\"categorical\",\n",
        "    class_names=None,\n",
        "    color_mode=\"rgb\",\n",
        "    batch_size=32,\n",
        "    image_size=(64, 64),\n",
        "    shuffle=True,\n",
        "    seed=None,\n",
        "    validation_split=None,\n",
        "    subset=None,\n",
        "    interpolation=\"bilinear\",\n",
        "    follow_links=False,\n",
        "    crop_to_aspect_ratio=False\n",
        ")"
      ],
      "metadata": {
        "id": "OnPbqTC_9caS",
        "colab": {
          "base_uri": "https://localhost:8080/"
        },
        "outputId": "3ba45450-8679-4d81-854b-0dd16a6a6888"
      },
      "execution_count": null,
      "outputs": [
        {
          "output_type": "stream",
          "name": "stdout",
          "text": [
            "Found 3177 files belonging to 36 classes.\n"
          ]
        }
      ]
    },
    {
      "cell_type": "markdown",
      "source": [
        "# Validation Image Processing"
      ],
      "metadata": {
        "id": "xXaXiscUWIW5"
      }
    },
    {
      "cell_type": "code",
      "source": [
        "validation_set = tf.keras.utils.image_dataset_from_directory(\n",
        "    '/content/drive/MyDrive/Project datasets/validation',\n",
        "    labels=\"inferred\",\n",
        "    label_mode=\"categorical\",\n",
        "    class_names=None,\n",
        "    color_mode=\"rgb\",\n",
        "    batch_size=32,\n",
        "    image_size=(64, 64),\n",
        "    shuffle=True,\n",
        "    seed=None,\n",
        "    validation_split=None,\n",
        "    subset=None,\n",
        "    interpolation=\"bilinear\",\n",
        "    follow_links=False,\n",
        "    crop_to_aspect_ratio=False\n",
        ")"
      ],
      "metadata": {
        "colab": {
          "base_uri": "https://localhost:8080/"
        },
        "id": "scIiz-DtWPwP",
        "outputId": "8ea8ab7b-8308-413f-b181-cf08cb6e241a"
      },
      "execution_count": null,
      "outputs": [
        {
          "output_type": "stream",
          "name": "stdout",
          "text": [
            "Found 351 files belonging to 36 classes.\n"
          ]
        }
      ]
    },
    {
      "cell_type": "markdown",
      "source": [
        "# Bulding Module\n"
      ],
      "metadata": {
        "id": "ixpEizJN-r_-"
      }
    },
    {
      "cell_type": "code",
      "source": [
        "import tensorflow as tf\n",
        "\n",
        "cnn = tf.keras.models.Sequential()"
      ],
      "metadata": {
        "id": "um2u6Q0XAqrT"
      },
      "execution_count": null,
      "outputs": []
    },
    {
      "cell_type": "markdown",
      "source": [
        "# Building Convolution Layer"
      ],
      "metadata": {
        "id": "C4wJzheIINsl"
      }
    },
    {
      "cell_type": "code",
      "source": [
        "cnn.add(tf.keras.layers.Conv2D(filters=32,kernel_size=3,padding='same',activation='relu',input_shape=[64,64,3]))\n",
        "cnn.add(tf.keras.layers.Conv2D(filters=32,kernel_size=3,activation='relu'))\n",
        "cnn.add(tf.keras.layers.MaxPool2D(pool_size=2,strides=2))\n"
      ],
      "metadata": {
        "id": "HhzKeGkqIReg"
      },
      "execution_count": null,
      "outputs": []
    },
    {
      "cell_type": "code",
      "source": [
        "cnn.add(tf.keras.layers.Dropout(0.25))"
      ],
      "metadata": {
        "id": "y7UjhcDcITSK"
      },
      "execution_count": null,
      "outputs": []
    },
    {
      "cell_type": "code",
      "source": [
        "cnn.add(tf.keras.layers.Conv2D(filters=64,kernel_size=3,padding='same',activation='relu'))\n",
        "cnn.add(tf.keras.layers.Conv2D(filters=64,kernel_size=3,activation='relu'))\n",
        "cnn.add(tf.keras.layers.MaxPool2D(pool_size=2,strides=2))"
      ],
      "metadata": {
        "id": "GXWbRrvfIY-6"
      },
      "execution_count": null,
      "outputs": []
    },
    {
      "cell_type": "code",
      "source": [
        "cnn.add(tf.keras.layers.Dropout(0.25))"
      ],
      "metadata": {
        "id": "QgFRpgRKIduA"
      },
      "execution_count": null,
      "outputs": []
    },
    {
      "cell_type": "code",
      "source": [
        "cnn.add(tf.keras.layers.Flatten())"
      ],
      "metadata": {
        "id": "heh7B5RtIgDv"
      },
      "execution_count": null,
      "outputs": []
    },
    {
      "cell_type": "code",
      "source": [
        "cnn.add(tf.keras.layers.Dense(units=512,activation='relu'))\n"
      ],
      "metadata": {
        "id": "R-QCHgzUIijQ"
      },
      "execution_count": null,
      "outputs": []
    },
    {
      "cell_type": "code",
      "source": [
        "cnn.add(tf.keras.layers.Dense(units=256,activation='relu'))"
      ],
      "metadata": {
        "id": "x8d_QJdjIkyn"
      },
      "execution_count": null,
      "outputs": []
    },
    {
      "cell_type": "code",
      "source": [
        "cnn.add(tf.keras.layers.Dropout(0.5))\n"
      ],
      "metadata": {
        "id": "w0USbRkUIlQN"
      },
      "execution_count": null,
      "outputs": []
    },
    {
      "cell_type": "code",
      "source": [
        "cnn.add(tf.keras.layers.Dense(units=36,activation='softmax'))"
      ],
      "metadata": {
        "id": "nysBxDA6IrYp"
      },
      "execution_count": null,
      "outputs": []
    },
    {
      "cell_type": "markdown",
      "source": [
        "# Compiling and Training Phase\n"
      ],
      "metadata": {
        "id": "ru-2GBYe2NH3"
      }
    },
    {
      "cell_type": "code",
      "source": [
        "cnn.compile(optimizer='adam',loss='categorical_crossentropy',metrics=['accuracy'])\n"
      ],
      "metadata": {
        "id": "HNbwUTk22WCK"
      },
      "execution_count": null,
      "outputs": []
    },
    {
      "cell_type": "code",
      "source": [
        "cnn.summary()"
      ],
      "metadata": {
        "colab": {
          "base_uri": "https://localhost:8080/"
        },
        "id": "uQ2r2mx_2dV2",
        "outputId": "255eea53-10c4-4b97-b872-77c6f7cb6090"
      },
      "execution_count": null,
      "outputs": [
        {
          "output_type": "stream",
          "name": "stdout",
          "text": [
            "Model: \"sequential_1\"\n",
            "_________________________________________________________________\n",
            " Layer (type)                Output Shape              Param #   \n",
            "=================================================================\n",
            " conv2d_4 (Conv2D)           (None, 64, 64, 32)        896       \n",
            "                                                                 \n",
            " conv2d_5 (Conv2D)           (None, 62, 62, 32)        9248      \n",
            "                                                                 \n",
            " max_pooling2d_2 (MaxPoolin  (None, 31, 31, 32)        0         \n",
            " g2D)                                                            \n",
            "                                                                 \n",
            " dropout_3 (Dropout)         (None, 31, 31, 32)        0         \n",
            "                                                                 \n",
            " conv2d_6 (Conv2D)           (None, 31, 31, 64)        18496     \n",
            "                                                                 \n",
            " conv2d_7 (Conv2D)           (None, 29, 29, 64)        36928     \n",
            "                                                                 \n",
            " max_pooling2d_3 (MaxPoolin  (None, 14, 14, 64)        0         \n",
            " g2D)                                                            \n",
            "                                                                 \n",
            " dropout_4 (Dropout)         (None, 14, 14, 64)        0         \n",
            "                                                                 \n",
            " flatten_1 (Flatten)         (None, 12544)             0         \n",
            "                                                                 \n",
            " dense_3 (Dense)             (None, 512)               6423040   \n",
            "                                                                 \n",
            " dense_4 (Dense)             (None, 256)               131328    \n",
            "                                                                 \n",
            " dropout_5 (Dropout)         (None, 256)               0         \n",
            "                                                                 \n",
            " dense_5 (Dense)             (None, 36)                9252      \n",
            "                                                                 \n",
            "=================================================================\n",
            "Total params: 6629188 (25.29 MB)\n",
            "Trainable params: 6629188 (25.29 MB)\n",
            "Non-trainable params: 0 (0.00 Byte)\n",
            "_________________________________________________________________\n"
          ]
        }
      ]
    },
    {
      "cell_type": "code",
      "source": [
        "training_history = cnn.fit(x=training_set,validation_data=validation_set,epochs=32)"
      ],
      "metadata": {
        "colab": {
          "base_uri": "https://localhost:8080/"
        },
        "id": "iaXJ4dvE3KWm",
        "outputId": "6f2c6c17-d638-407e-f721-71522607661a"
      },
      "execution_count": null,
      "outputs": [
        {
          "output_type": "stream",
          "name": "stdout",
          "text": [
            "Epoch 1/32\n",
            "100/100 [==============================] - 498s 5s/step - loss: 5.9278 - accuracy: 0.0296 - val_loss: 3.5820 - val_accuracy: 0.0342\n",
            "Epoch 2/32\n",
            "100/100 [==============================] - 161s 2s/step - loss: 3.5267 - accuracy: 0.0494 - val_loss: 3.3674 - val_accuracy: 0.0798\n",
            "Epoch 3/32\n",
            "100/100 [==============================] - 170s 2s/step - loss: 3.4058 - accuracy: 0.0611 - val_loss: 3.3081 - val_accuracy: 0.1054\n",
            "Epoch 4/32\n",
            "100/100 [==============================] - 167s 2s/step - loss: 3.2869 - accuracy: 0.0759 - val_loss: 3.4784 - val_accuracy: 0.0969\n",
            "Epoch 5/32\n",
            "100/100 [==============================] - 161s 2s/step - loss: 3.2288 - accuracy: 0.0840 - val_loss: 2.9630 - val_accuracy: 0.1595\n",
            "Epoch 6/32\n",
            "100/100 [==============================] - 162s 2s/step - loss: 3.1056 - accuracy: 0.1083 - val_loss: 2.8081 - val_accuracy: 0.2336\n",
            "Epoch 7/32\n",
            "100/100 [==============================] - 162s 2s/step - loss: 2.9639 - accuracy: 0.1486 - val_loss: 2.4727 - val_accuracy: 0.2934\n",
            "Epoch 8/32\n",
            "100/100 [==============================] - 159s 2s/step - loss: 2.8250 - accuracy: 0.1923 - val_loss: 2.4724 - val_accuracy: 0.3846\n",
            "Epoch 9/32\n",
            "100/100 [==============================] - 155s 1s/step - loss: 2.6046 - accuracy: 0.2568 - val_loss: 1.9268 - val_accuracy: 0.4929\n",
            "Epoch 10/32\n",
            "100/100 [==============================] - 169s 2s/step - loss: 2.3330 - accuracy: 0.3343 - val_loss: 1.6188 - val_accuracy: 0.5983\n",
            "Epoch 11/32\n",
            "100/100 [==============================] - 161s 2s/step - loss: 2.1657 - accuracy: 0.3617 - val_loss: 1.5244 - val_accuracy: 0.6211\n",
            "Epoch 12/32\n",
            "100/100 [==============================] - 161s 2s/step - loss: 1.8893 - accuracy: 0.4577 - val_loss: 1.1887 - val_accuracy: 0.7094\n",
            "Epoch 13/32\n",
            "100/100 [==============================] - 162s 2s/step - loss: 1.7246 - accuracy: 0.4920 - val_loss: 0.9776 - val_accuracy: 0.7436\n",
            "Epoch 14/32\n",
            "100/100 [==============================] - 161s 2s/step - loss: 1.4894 - accuracy: 0.5615 - val_loss: 0.8923 - val_accuracy: 0.7692\n",
            "Epoch 15/32\n",
            "100/100 [==============================] - 151s 1s/step - loss: 1.4741 - accuracy: 0.5744 - val_loss: 0.8802 - val_accuracy: 0.7749\n",
            "Epoch 16/32\n",
            "100/100 [==============================] - 151s 1s/step - loss: 1.3043 - accuracy: 0.6176 - val_loss: 0.7521 - val_accuracy: 0.7949\n",
            "Epoch 17/32\n",
            "100/100 [==============================] - 155s 1s/step - loss: 1.1928 - accuracy: 0.6509 - val_loss: 0.6716 - val_accuracy: 0.8234\n",
            "Epoch 18/32\n",
            "100/100 [==============================] - 151s 1s/step - loss: 1.0832 - accuracy: 0.6818 - val_loss: 0.6320 - val_accuracy: 0.8348\n",
            "Epoch 19/32\n",
            "100/100 [==============================] - 161s 2s/step - loss: 0.9699 - accuracy: 0.7085 - val_loss: 0.7022 - val_accuracy: 0.8262\n",
            "Epoch 20/32\n",
            "100/100 [==============================] - 162s 2s/step - loss: 0.9289 - accuracy: 0.7365 - val_loss: 0.5934 - val_accuracy: 0.8433\n",
            "Epoch 21/32\n",
            "100/100 [==============================] - 160s 2s/step - loss: 0.9081 - accuracy: 0.7343 - val_loss: 0.5787 - val_accuracy: 0.8376\n",
            "Epoch 22/32\n",
            "100/100 [==============================] - 159s 2s/step - loss: 0.8558 - accuracy: 0.7498 - val_loss: 0.5531 - val_accuracy: 0.8746\n",
            "Epoch 23/32\n",
            "100/100 [==============================] - 157s 1s/step - loss: 0.8124 - accuracy: 0.7674 - val_loss: 0.5773 - val_accuracy: 0.8661\n",
            "Epoch 24/32\n",
            "100/100 [==============================] - 159s 2s/step - loss: 0.7253 - accuracy: 0.7904 - val_loss: 0.5229 - val_accuracy: 0.8604\n",
            "Epoch 25/32\n",
            "100/100 [==============================] - 150s 1s/step - loss: 0.7533 - accuracy: 0.7897 - val_loss: 0.6674 - val_accuracy: 0.8433\n",
            "Epoch 26/32\n",
            "100/100 [==============================] - 156s 1s/step - loss: 0.7106 - accuracy: 0.7916 - val_loss: 0.5190 - val_accuracy: 0.8661\n",
            "Epoch 27/32\n",
            "100/100 [==============================] - 164s 2s/step - loss: 0.6872 - accuracy: 0.8045 - val_loss: 0.5255 - val_accuracy: 0.8689\n",
            "Epoch 28/32\n",
            "100/100 [==============================] - 159s 2s/step - loss: 0.6504 - accuracy: 0.8096 - val_loss: 0.5132 - val_accuracy: 0.8832\n",
            "Epoch 29/32\n",
            "100/100 [==============================] - 158s 1s/step - loss: 0.5966 - accuracy: 0.8278 - val_loss: 0.4778 - val_accuracy: 0.8689\n",
            "Epoch 30/32\n",
            "100/100 [==============================] - 164s 2s/step - loss: 0.6631 - accuracy: 0.8061 - val_loss: 0.4200 - val_accuracy: 0.9088\n",
            "Epoch 31/32\n",
            "100/100 [==============================] - 158s 1s/step - loss: 0.5316 - accuracy: 0.8477 - val_loss: 0.4335 - val_accuracy: 0.8917\n",
            "Epoch 32/32\n",
            "100/100 [==============================] - 151s 1s/step - loss: 0.5283 - accuracy: 0.8420 - val_loss: 0.4115 - val_accuracy: 0.9060\n"
          ]
        }
      ]
    },
    {
      "cell_type": "markdown",
      "source": [
        "# Evaluating Model"
      ],
      "metadata": {
        "id": "mg9qgKcB61xk"
      }
    },
    {
      "cell_type": "code",
      "source": [
        "train_loss, train_acc = cnn.evaluate(training_set)\n",
        "print('Training accuracy:', train_acc)"
      ],
      "metadata": {
        "colab": {
          "base_uri": "https://localhost:8080/"
        },
        "id": "9VDrMltNSvaw",
        "outputId": "46849170-8b45-49cf-e3ec-5508b066a04c"
      },
      "execution_count": null,
      "outputs": [
        {
          "output_type": "stream",
          "name": "stdout",
          "text": [
            "100/100 [==============================] - 98s 888ms/step - loss: 0.3038 - accuracy: 0.9093\n",
            "Training accuracy: 0.9093484282493591\n"
          ]
        }
      ]
    },
    {
      "cell_type": "code",
      "source": [
        "val_loss, val_acc = cnn.evaluate(validation_set)\n",
        "print('Validation accuracy:', val_acc)"
      ],
      "metadata": {
        "colab": {
          "base_uri": "https://localhost:8080/"
        },
        "id": "znHegHWfTxEc",
        "outputId": "5358f593-f05f-47e0-eda7-8c4232c4c5ac"
      },
      "execution_count": null,
      "outputs": [
        {
          "output_type": "stream",
          "name": "stdout",
          "text": [
            "11/11 [==============================] - 15s 511ms/step - loss: 0.4115 - accuracy: 0.9060\n",
            "Validation accuracy: 0.9059829115867615\n"
          ]
        }
      ]
    },
    {
      "cell_type": "markdown",
      "source": [
        "# Saving Model"
      ],
      "metadata": {
        "id": "ur3Skha3UbPB"
      }
    },
    {
      "cell_type": "code",
      "source": [
        "cnn.save('trained_model.h5')"
      ],
      "metadata": {
        "colab": {
          "base_uri": "https://localhost:8080/"
        },
        "id": "WjrBGWVBUeda",
        "outputId": "9360dbf8-f9b4-4233-ffd5-248209501475"
      },
      "execution_count": null,
      "outputs": [
        {
          "output_type": "stream",
          "name": "stderr",
          "text": [
            "/usr/local/lib/python3.10/dist-packages/keras/src/engine/training.py:3103: UserWarning: You are saving your model as an HDF5 file via `model.save()`. This file format is considered legacy. We recommend using instead the native Keras format, e.g. `model.save('my_model.keras')`.\n",
            "  saving_api.save_model(\n"
          ]
        }
      ]
    },
    {
      "cell_type": "code",
      "source": [
        "training_history.history"
      ],
      "metadata": {
        "colab": {
          "base_uri": "https://localhost:8080/"
        },
        "id": "50Jhzi-uUjJy",
        "outputId": "c1d53f83-a71b-4d4d-edb9-2e2bc857ed0c"
      },
      "execution_count": null,
      "outputs": [
        {
          "output_type": "execute_result",
          "data": {
            "text/plain": [
              "{'loss': [5.927755355834961,\n",
              "  3.5266857147216797,\n",
              "  3.405794858932495,\n",
              "  3.2869274616241455,\n",
              "  3.2287940979003906,\n",
              "  3.1055750846862793,\n",
              "  2.9638822078704834,\n",
              "  2.824951171875,\n",
              "  2.60459303855896,\n",
              "  2.3330118656158447,\n",
              "  2.1657118797302246,\n",
              "  1.8892936706542969,\n",
              "  1.7245792150497437,\n",
              "  1.489435076713562,\n",
              "  1.4740866422653198,\n",
              "  1.3043403625488281,\n",
              "  1.192780613899231,\n",
              "  1.0832217931747437,\n",
              "  0.9698508977890015,\n",
              "  0.9288716316223145,\n",
              "  0.9081181287765503,\n",
              "  0.8558127880096436,\n",
              "  0.8123620748519897,\n",
              "  0.7253307104110718,\n",
              "  0.7533095479011536,\n",
              "  0.7106419205665588,\n",
              "  0.6871979236602783,\n",
              "  0.6504361033439636,\n",
              "  0.5965584516525269,\n",
              "  0.6630973219871521,\n",
              "  0.5315528512001038,\n",
              "  0.5283375382423401],\n",
              " 'accuracy': [0.02958766184747219,\n",
              "  0.04941768944263458,\n",
              "  0.061063896864652634,\n",
              "  0.0758577287197113,\n",
              "  0.0840415507555008,\n",
              "  0.10827825218439102,\n",
              "  0.1485678255558014,\n",
              "  0.19231979548931122,\n",
              "  0.2568460702896118,\n",
              "  0.3342776298522949,\n",
              "  0.3616619408130646,\n",
              "  0.45766445994377136,\n",
              "  0.49197354912757874,\n",
              "  0.5615360140800476,\n",
              "  0.5744413137435913,\n",
              "  0.6175637245178223,\n",
              "  0.6509285569190979,\n",
              "  0.6817752718925476,\n",
              "  0.708530068397522,\n",
              "  0.7365438938140869,\n",
              "  0.7343405485153198,\n",
              "  0.7497639060020447,\n",
              "  0.7673906087875366,\n",
              "  0.7903682589530945,\n",
              "  0.7897387742996216,\n",
              "  0.7916273474693298,\n",
              "  0.8045325875282288,\n",
              "  0.8095687627792358,\n",
              "  0.8278250098228455,\n",
              "  0.8061063885688782,\n",
              "  0.8476549983024597,\n",
              "  0.841989278793335],\n",
              " 'val_loss': [3.581970453262329,\n",
              "  3.3673722743988037,\n",
              "  3.3081116676330566,\n",
              "  3.478411912918091,\n",
              "  2.963015079498291,\n",
              "  2.808133602142334,\n",
              "  2.4727137088775635,\n",
              "  2.4723575115203857,\n",
              "  1.9268245697021484,\n",
              "  1.6188286542892456,\n",
              "  1.5244007110595703,\n",
              "  1.1886931657791138,\n",
              "  0.9776080846786499,\n",
              "  0.8922666311264038,\n",
              "  0.880184531211853,\n",
              "  0.7521268129348755,\n",
              "  0.6716005802154541,\n",
              "  0.6320003271102905,\n",
              "  0.7022094130516052,\n",
              "  0.5934357643127441,\n",
              "  0.5787275433540344,\n",
              "  0.5531331300735474,\n",
              "  0.5772871375083923,\n",
              "  0.5229257345199585,\n",
              "  0.6673619747161865,\n",
              "  0.5190314054489136,\n",
              "  0.5255396962165833,\n",
              "  0.5131903886795044,\n",
              "  0.47779759764671326,\n",
              "  0.42001986503601074,\n",
              "  0.43351027369499207,\n",
              "  0.41149741411209106],\n",
              " 'val_accuracy': [0.03418803587555885,\n",
              "  0.07977207750082016,\n",
              "  0.10541310906410217,\n",
              "  0.09686609357595444,\n",
              "  0.15954415500164032,\n",
              "  0.23361822962760925,\n",
              "  0.2934472858905792,\n",
              "  0.38461539149284363,\n",
              "  0.4928774833679199,\n",
              "  0.5982906222343445,\n",
              "  0.621082603931427,\n",
              "  0.7094017267227173,\n",
              "  0.7435897588729858,\n",
              "  0.7692307829856873,\n",
              "  0.7749287486076355,\n",
              "  0.7948718070983887,\n",
              "  0.8233618140220642,\n",
              "  0.8347578644752502,\n",
              "  0.8262107968330383,\n",
              "  0.8433048725128174,\n",
              "  0.8376068472862244,\n",
              "  0.874643862247467,\n",
              "  0.8660968542098999,\n",
              "  0.8603988885879517,\n",
              "  0.8433048725128174,\n",
              "  0.8660968542098999,\n",
              "  0.8689458966255188,\n",
              "  0.8831908702850342,\n",
              "  0.8689458966255188,\n",
              "  0.9088318943977356,\n",
              "  0.8917378783226013,\n",
              "  0.9059829115867615]}"
            ]
          },
          "metadata": {},
          "execution_count": 43
        }
      ]
    },
    {
      "cell_type": "code",
      "source": [
        "import json\n",
        "with open('training_hist.json','w') as f:\n",
        "  json.dump(training_history.history,f)"
      ],
      "metadata": {
        "id": "kJUe7lD-UpKv"
      },
      "execution_count": null,
      "outputs": []
    },
    {
      "cell_type": "code",
      "source": [
        "print(training_history.history.keys())"
      ],
      "metadata": {
        "colab": {
          "base_uri": "https://localhost:8080/"
        },
        "id": "r2lMKhuJUsJC",
        "outputId": "4b6408f0-8a93-4c59-b7c3-851a48063752"
      },
      "execution_count": null,
      "outputs": [
        {
          "output_type": "stream",
          "name": "stdout",
          "text": [
            "dict_keys(['loss', 'accuracy', 'val_loss', 'val_accuracy'])\n"
          ]
        }
      ]
    },
    {
      "cell_type": "markdown",
      "source": [
        "# Calculating Accuracy of Model Achieved on Validation set"
      ],
      "metadata": {
        "id": "tm2M8gkTUuv4"
      }
    },
    {
      "cell_type": "code",
      "source": [
        "print(\"Validation set Accuracy: {} %\".format(training_history.history['val_accuracy'][-1]*100))"
      ],
      "metadata": {
        "colab": {
          "base_uri": "https://localhost:8080/"
        },
        "id": "RNPHER5aUwGM",
        "outputId": "dd9f0b3a-c2b7-4e9d-cdb7-70760fb33a21"
      },
      "execution_count": null,
      "outputs": [
        {
          "output_type": "stream",
          "name": "stdout",
          "text": [
            "Validation set Accuracy: 90.59829115867615 %\n"
          ]
        }
      ]
    },
    {
      "cell_type": "markdown",
      "source": [
        "# Validation Accuracy"
      ],
      "metadata": {
        "id": "ttrL_3cKYHxx"
      }
    },
    {
      "cell_type": "markdown",
      "source": [
        "# Accuracy Visualization"
      ],
      "metadata": {
        "id": "KyIqwWbjU3Nf"
      }
    },
    {
      "cell_type": "code",
      "source": [
        "epochs = [i for i in range(1,33)]\n",
        "plt.plot(epochs,training_history.history['accuracy'],color='red')\n",
        "plt.xlabel('No. of Epochs')\n",
        "plt.ylabel('Traiining Accuracy')\n",
        "plt.title('Visualization of Training Accuracy Result')\n",
        "plt.show()"
      ],
      "metadata": {
        "colab": {
          "base_uri": "https://localhost:8080/",
          "height": 472
        },
        "id": "EEWeCd5dU4Sz",
        "outputId": "7f36b977-20e8-4329-faed-adb512595ee1"
      },
      "execution_count": null,
      "outputs": [
        {
          "output_type": "display_data",
          "data": {
            "text/plain": [
              "<Figure size 640x480 with 1 Axes>"
            ],
            "image/png": "[encoded data removed]"
          },
          "metadata": {}
        }
      ]
    },
    {
      "cell_type": "code",
      "source": [
        "plt.plot(epochs,training_history.history['val_accuracy'],color='blue')\n",
        "plt.xlabel('No. of Epochs')\n",
        "plt.ylabel('Validation Accuracy')\n",
        "plt.title('Visualization of Validation Accuracy Result')\n",
        "plt.show()"
      ],
      "metadata": {
        "colab": {
          "base_uri": "https://localhost:8080/",
          "height": 472
        },
        "id": "n6Y5Ns1RU-ba",
        "outputId": "58f06ae2-a791-43d1-cdd5-adda0248ae43"
      },
      "execution_count": null,
      "outputs": [
        {
          "output_type": "display_data",
          "data": {
            "text/plain": [
              "<Figure size 640x480 with 1 Axes>"
            ],
            "image/png": "[encoded data removed]"
          },
          "metadata": {}
        }
      ]
    },
    {
      "cell_type": "markdown",
      "source": [
        "# Test set Evaluation"
      ],
      "metadata": {
        "id": "tZsSnXghVCQs"
      }
    },
    {
      "cell_type": "code",
      "source": [
        "\n",
        "test_set = tf.keras.utils.image_dataset_from_directory(\n",
        "    '/content/drive/MyDrive/Project datasets/test',\n",
        "    labels=\"inferred\",\n",
        "    label_mode=\"categorical\",\n",
        "    class_names=None,\n",
        "    color_mode=\"rgb\",\n",
        "    batch_size=32,\n",
        "    image_size=(64, 64),\n",
        "    shuffle=True,\n",
        "    seed=None,\n",
        "    validation_split=None,\n",
        "    subset=None,\n",
        "    interpolation=\"bilinear\",\n",
        "    follow_links=False,\n",
        "    crop_to_aspect_ratio=False\n",
        ")\n"
      ],
      "metadata": {
        "colab": {
          "base_uri": "https://localhost:8080/"
        },
        "id": "rdwFz_WWVEFR",
        "outputId": "714a8353-9523-47d4-8791-d64f956d1897"
      },
      "execution_count": null,
      "outputs": [
        {
          "output_type": "stream",
          "name": "stdout",
          "text": [
            "Found 361 files belonging to 36 classes.\n"
          ]
        }
      ]
    },
    {
      "cell_type": "code",
      "source": [
        "test_loss,test_acc = cnn.evaluate(test_set)\n",
        "print('Test accuracy:', test_acc)"
      ],
      "metadata": {
        "colab": {
          "base_uri": "https://localhost:8080/"
        },
        "id": "8vVcPVf9VQjK",
        "outputId": "1e991a12-58e9-4482-c6a6-a76681f7990b"
      },
      "execution_count": null,
      "outputs": [
        {
          "output_type": "stream",
          "name": "stdout",
          "text": [
            "12/12 [==============================] - 48s 926ms/step - loss: 0.4295 - accuracy: 0.9003\n",
            "Test accuracy: 0.9002770185470581\n"
          ]
        }
      ]
    }
  ]
}